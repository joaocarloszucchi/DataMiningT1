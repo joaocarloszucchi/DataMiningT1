{
 "cells": [
  {
   "cell_type": "code",
   "execution_count": 1,
   "metadata": {},
   "outputs": [],
   "source": [
    "import pandas as pd\n",
    "from fuzzywuzzy import fuzz\n",
    "from mlxtend.frequent_patterns import apriori\n",
    "from mlxtend.frequent_patterns import association_rules"
   ]
  },
  {
   "cell_type": "code",
   "execution_count": 12,
   "metadata": {},
   "outputs": [],
   "source": [
    "def load_data():\n",
    "    df1 = pd.read_csv(\"_ASSOC_Truco_01.csv\")\n",
    "    df2 = pd.read_csv(\"_ASSOC_Truco_02.csv\")\n",
    "\n",
    "    return pd.concat([df1, df2], ignore_index=True)\n",
    "\n",
    "def data_preprocessing(df):\n",
    "    df = remove_rows_with_nan(df)\n",
    "    df = format_pairs(df)\n",
    "    df = remove_jogadores_column(df)\n",
    "    df = merge_similar_names(df)\n",
    "    df = add_wins_columns(df)\n",
    "\n",
    "    return df\n",
    "\n",
    "def remove_rows_with_nan(dataframe):\n",
    "    cleaned_df = dataframe.dropna(how='any')\n",
    "    \n",
    "    return cleaned_df\n",
    "\n",
    "def remove_spaces_and_commas(name):\n",
    "    return name.replace(' ', '').replace(',', '')\n",
    "\n",
    "def format_pairs(dataframe):\n",
    "    dataframe_copy = dataframe.copy()  # Create a copy of the DataFrame\n",
    "    \n",
    "    dataframe_copy['Player1'] = dataframe['Jogadore(a)s'].str.split(', ').str[0].apply(remove_spaces_and_commas)\n",
    "    dataframe_copy['Player2'] = dataframe['Jogadore(a)s'].str.split(', ').str[1].apply(remove_spaces_and_commas)\n",
    "    \n",
    "    return dataframe_copy\n",
    "\n",
    "def remove_jogadores_column(dataframe):\n",
    "    dataframe = dataframe.drop(columns=['Jogadore(a)s'])\n",
    "\n",
    "    return dataframe\n",
    "\n",
    "def merge_similar_names(dataframe, threshold=85):\n",
    "    unique_players = pd.concat([dataframe['Player1'], dataframe['Player2']]).unique()\n",
    "    \n",
    "    merged_names = {}\n",
    "    \n",
    "    for name1 in unique_players:\n",
    "        if name1 not in merged_names:\n",
    "            merged_names[name1] = name1\n",
    "        else:\n",
    "            continue\n",
    "        \n",
    "        for name2 in unique_players:\n",
    "            if name1 != name2 and fuzz.ratio(name1, name2) >= threshold:\n",
    "                merged_names[name2] = name1\n",
    "    \n",
    "    dataframe['Player1'] = dataframe['Player1'].replace(merged_names)\n",
    "    dataframe['Player2'] = dataframe['Player2'].replace(merged_names)\n",
    "    \n",
    "    return dataframe\n",
    "\n",
    "def add_wins_columns(dataframe):\n",
    "    dataframe['Wins'] = (dataframe['Amigos'] > dataframe['Oponentes'])\n",
    "    dataframe['GreatWins'] = (dataframe['Amigos'] > dataframe['Oponentes']) & (dataframe['Oponentes'] < 12)\n",
    "    return dataframe\n",
    "\n",
    "def create_association_rules(dataframe):\n",
    "    frequent = apriori(dataframe, min_support=0.05, use_colnames=True)\n",
    "    association_rules_df = association_rules(frequent, metric='lift', min_threshold=1.0)\n",
    "    association_rules_df = association_rules_df.drop(columns=['antecedent support', 'consequent support', 'lift', 'leverage', 'conviction', 'zhangs_metric'])\n",
    "    association_rules_df['support'] = association_rules_df['support'].round(3)\n",
    "    association_rules_df['confidence'] = association_rules_df['confidence'].round(3)\n",
    "\n",
    "    return association_rules_df\n",
    "\n",
    "def create_table_for_apriori(df):\n",
    "    players = set(df['Player1'].unique()).union(set(df['Player2'].unique()))\n",
    "\n",
    "    player_columns = pd.DataFrame(False, columns=players, index=df.index)\n",
    "\n",
    "    for i, row in df.iterrows():\n",
    "        for player in players:\n",
    "            if player == row['Player1'] or player == row['Player2']:\n",
    "                player_columns.at[i, player] = True\n",
    "\n",
    "    result_df = pd.concat([player_columns, df[['Wins', 'GreatWins']]], axis=1)\n",
    "\n",
    "    return result_df"
   ]
  },
  {
   "cell_type": "code",
   "execution_count": 13,
   "metadata": {},
   "outputs": [
    {
     "name": "stdout",
     "output_type": "stream",
     "text": [
      "     Partida           Jogadore(a)s  Oponentes  Amigos\n",
      "0        1.0        Gaudencio, Xiru         24       0\n",
      "1        2.0             Xiru, Peao         14      24\n",
      "2        3.0               Peao, Ze         24       4\n",
      "3        4.0     Prenda, Estanciera         24       8\n",
      "4        5.0       Estanciera, Xiru          9      24\n",
      "..       ...                    ...        ...     ...\n",
      "149    150.0  Prenda, Estancieira           24      22\n",
      "150    151.0   Prenda, Estancieira           6      24\n",
      "151    152.0        Ze, Estancieira          0      24\n",
      "152    153.0             Prenda, Ze         24       1\n",
      "153      NaN                    NaN          0      24\n",
      "\n",
      "[154 rows x 4 columns]\n"
     ]
    }
   ],
   "source": [
    "df = load_data()\n",
    "print(df)"
   ]
  },
  {
   "cell_type": "code",
   "execution_count": 14,
   "metadata": {},
   "outputs": [
    {
     "name": "stdout",
     "output_type": "stream",
     "text": [
      "     Partida  Oponentes  Amigos     Player1     Player2   Wins  GreatWins\n",
      "0        1.0         24       0   Gaudencio        Xiru  False      False\n",
      "1        2.0         14      24        Xiru        Peao   True      False\n",
      "2        3.0         24       4        Peao          Ze  False      False\n",
      "3        4.0         24       8      Prenda  Estanciera  False      False\n",
      "4        5.0          9      24  Estanciera        Xiru   True       True\n",
      "..       ...        ...     ...         ...         ...    ...        ...\n",
      "148    149.0         24      15        Peao      Prenda  False      False\n",
      "149    150.0         24      22      Prenda  Estanciera  False      False\n",
      "150    151.0          6      24      Prenda  Estanciera   True       True\n",
      "151    152.0          0      24          Ze  Estanciera   True       True\n",
      "152    153.0         24       1      Prenda          Ze  False      False\n",
      "\n",
      "[153 rows x 7 columns]\n"
     ]
    }
   ],
   "source": [
    "df = data_preprocessing(df)\n",
    "print(df)"
   ]
  },
  {
   "cell_type": "code",
   "execution_count": 16,
   "metadata": {},
   "outputs": [
    {
     "name": "stdout",
     "output_type": "stream",
     "text": [
      "      Peao  Mafalda   Xiru  Prenda  Francois  Gaudencio     Ze  Estanciera  \\\n",
      "0    False    False   True   False     False       True  False       False   \n",
      "1     True    False   True   False     False      False  False       False   \n",
      "2     True    False  False   False     False      False   True       False   \n",
      "3    False    False  False    True     False      False  False        True   \n",
      "4    False    False   True   False     False      False  False        True   \n",
      "..     ...      ...    ...     ...       ...        ...    ...         ...   \n",
      "148   True    False  False    True     False      False  False       False   \n",
      "149  False    False  False    True     False      False  False        True   \n",
      "150  False    False  False    True     False      False  False        True   \n",
      "151  False    False  False   False     False      False   True        True   \n",
      "152  False    False  False    True     False      False   True       False   \n",
      "\n",
      "      Wins  GreatWins  \n",
      "0    False      False  \n",
      "1     True      False  \n",
      "2    False      False  \n",
      "3    False      False  \n",
      "4     True       True  \n",
      "..     ...        ...  \n",
      "148  False      False  \n",
      "149  False      False  \n",
      "150   True       True  \n",
      "151   True       True  \n",
      "152  False      False  \n",
      "\n",
      "[153 rows x 10 columns]\n"
     ]
    }
   ],
   "source": [
    "df_general = create_table_for_apriori(df)\n",
    "print(df_general)\n",
    "\n"
   ]
  },
  {
   "cell_type": "code",
   "execution_count": 19,
   "metadata": {},
   "outputs": [
    {
     "name": "stdout",
     "output_type": "stream",
     "text": [
      "\n",
      "Association Rules:\n",
      "          antecedents        consequents  support  confidence\n",
      "0              (Peao)             (Wins)    0.222       0.557\n",
      "1              (Peao)        (GreatWins)    0.170       0.426\n",
      "2            (Prenda)             (Wins)    0.176       0.574\n",
      "3         (Gaudencio)             (Wins)    0.144       0.710\n",
      "4         (Gaudencio)        (GreatWins)    0.118       0.581\n",
      "5      (Peao, Prenda)             (Wins)    0.105       0.696\n",
      "6  (Xiru, Estanciera)        (GreatWins)    0.078       0.429\n",
      "7              (Peao)  (GreatWins, Wins)    0.170       0.426\n",
      "8         (Gaudencio)  (GreatWins, Wins)    0.118       0.581\n",
      "9  (Xiru, Estanciera)  (GreatWins, Wins)    0.078       0.429\n"
     ]
    }
   ],
   "source": [
    "assocGeneral = create_association_rules(df_general)\n",
    "\n",
    "assoc1 = assocGeneral[\n",
    "    assocGeneral['antecedents'].apply(lambda x: 'GreatWins' not in x and 'Wins' not in x) &\n",
    "    assocGeneral['consequents'].apply(lambda x: len(x) == 1 and ('Wins' in x or 'GreatWins' in x))\n",
    "]\n",
    "\n",
    "assoc2 = assocGeneral[\n",
    "    assocGeneral['antecedents'].apply(lambda x: 'GreatWins' not in x and 'Wins' not in x) &\n",
    "    assocGeneral['consequents'].apply(lambda x: len(x) < 3 and ('Wins' in x and 'GreatWins' in x))\n",
    "]\n",
    "\n",
    "print(\"\\nAssociation Rules:\")\n",
    "\n",
    "assoc = pd.concat([assoc1, assoc2], ignore_index=True)\n",
    "\n",
    "print(assoc)"
   ]
  },
  {
   "cell_type": "code",
   "execution_count": 20,
   "metadata": {},
   "outputs": [
    {
     "name": "stdout",
     "output_type": "stream",
     "text": [
      "One Player Rules:\n",
      "   antecedents        consequents  support  confidence\n",
      "0       (Peao)             (Wins)    0.222       0.557\n",
      "1       (Peao)        (GreatWins)    0.170       0.426\n",
      "2     (Prenda)             (Wins)    0.176       0.574\n",
      "3  (Gaudencio)             (Wins)    0.144       0.710\n",
      "4  (Gaudencio)        (GreatWins)    0.118       0.581\n",
      "7       (Peao)  (GreatWins, Wins)    0.170       0.426\n",
      "8  (Gaudencio)  (GreatWins, Wins)    0.118       0.581\n",
      "\n",
      "Two Player Rules:\n",
      "          antecedents        consequents  support  confidence\n",
      "5      (Peao, Prenda)             (Wins)    0.105       0.696\n",
      "6  (Xiru, Estanciera)        (GreatWins)    0.078       0.429\n",
      "9  (Xiru, Estanciera)  (GreatWins, Wins)    0.078       0.429\n"
     ]
    }
   ],
   "source": [
    "one_player_rules = assoc[assoc['antecedents'].apply(lambda x: ',' not in str(x))]\n",
    "two_player_rules = assoc[assoc['antecedents'].apply(lambda x: ',' in str(x))]\n",
    "\n",
    "print(\"One Player Rules:\")\n",
    "print(one_player_rules)\n",
    "\n",
    "print(\"\\nTwo Player Rules:\")\n",
    "print(two_player_rules)"
   ]
  }
 ],
 "metadata": {
  "kernelspec": {
   "display_name": "Python 3",
   "language": "python",
   "name": "python3"
  },
  "language_info": {
   "codemirror_mode": {
    "name": "ipython",
    "version": 3
   },
   "file_extension": ".py",
   "mimetype": "text/x-python",
   "name": "python",
   "nbconvert_exporter": "python",
   "pygments_lexer": "ipython3",
   "version": "3.10.6"
  },
  "orig_nbformat": 4
 },
 "nbformat": 4,
 "nbformat_minor": 2
}
